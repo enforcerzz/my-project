{
 "cells": [
  {
   "cell_type": "markdown",
   "id": "62d6669f",
   "metadata": {},
   "source": [
    "# real estate house-price predictor"
   ]
  },
  {
   "cell_type": "code",
   "execution_count": null,
   "id": "ccb3b4ce",
   "metadata": {},
   "outputs": [],
   "source": [
    "import pandas as pd"
   ]
  },
  {
   "cell_type": "code",
   "execution_count": null,
   "id": "d3047a42",
   "metadata": {},
   "outputs": [],
   "source": [
    "import vpython as vs"
   ]
  },
  {
   "cell_type": "code",
   "execution_count": null,
   "id": "e5940837",
   "metadata": {},
   "outputs": [],
   "source": [
    "col_names=['CRIM','ZN','INDUS','CHAS','NOX','RM','AGE','DIS','RAD','TAX','PTRATIO','B','LSTAT','MEDV']\n",
    "housing=pd.read_csv('housing.csv',names=col_names,header=None)\n",
    "features = ['MEDV','RM','ZN','LSTAT']"
   ]
  },
  {
   "cell_type": "code",
   "execution_count": null,
   "id": "d6d60577",
   "metadata": {},
   "outputs": [],
   "source": [
    "housing.head()"
   ]
  },
  {
   "cell_type": "code",
   "execution_count": null,
   "id": "6607b23e",
   "metadata": {},
   "outputs": [],
   "source": [
    "housing.info()"
   ]
  },
  {
   "cell_type": "code",
   "execution_count": null,
   "id": "bf535089",
   "metadata": {},
   "outputs": [],
   "source": [
    "housing.shape"
   ]
  },
  {
   "cell_type": "code",
   "execution_count": null,
   "id": "99dca404",
   "metadata": {},
   "outputs": [],
   "source": [
    "#Checking null values in dataset\n",
    "housing.isnull().sum()"
   ]
  },
  {
   "cell_type": "code",
   "execution_count": null,
   "id": "2e50327a",
   "metadata": {},
   "outputs": [],
   "source": [
    "import seaborn as sns\n",
    "sns.heatmap(data=housing.isnull(),yticklabels=False,cmap='viridis')"
   ]
  },
  {
   "cell_type": "markdown",
   "id": "e05912c5",
   "metadata": {},
   "source": [
    "# Basically, we all  have numerical values in which we have discrete & continuous variables"
   ]
  },
  {
   "cell_type": "code",
   "execution_count": null,
   "id": "45562d30",
   "metadata": {},
   "outputs": [],
   "source": [
    "#Discrete features\n",
    "discrete_feature=[feature for feature in housing if len(housing[feature].unique())<25]\n",
    "print(f\"Discrete feature count {len(discrete_feature)}\")"
   ]
  },
  {
   "cell_type": "code",
   "execution_count": null,
   "id": "8d479adc",
   "metadata": {},
   "outputs": [],
   "source": [
    "housing[discrete_feature].head()"
   ]
  },
  {
   "cell_type": "markdown",
   "id": "eb1c2bbc",
   "metadata": {},
   "source": [
    "# Finding the realtionship between sales and discrete variable"
   ]
  },
  {
   "cell_type": "code",
   "execution_count": null,
   "id": "20e2412e",
   "metadata": {},
   "outputs": [],
   "source": [
    "import matplotlib.pyplot as plt\n",
    "for feature in discrete_feature:\n",
    "    data=housing.copy()\n",
    "    data.groupby(feature)['MEDV'].median().plot.bar()\n",
    "    plt.xlabel(feature)\n",
    "    plt.ylabel('SalePrice')\n",
    "    plt.title(feature)\n",
    "    plt.show()"
   ]
  },
  {
   "cell_type": "code",
   "execution_count": null,
   "id": "d72977cb",
   "metadata": {},
   "outputs": [],
   "source": [
    "#Continuous features\n",
    "continuous_feature=[feature for feature in housing if feature not in discrete_feature]\n",
    "print(f\"Continuous variable count {len(continuous_feature)}\")"
   ]
  },
  {
   "cell_type": "code",
   "execution_count": null,
   "id": "88f33c8a",
   "metadata": {},
   "outputs": [],
   "source": [
    "housing[continuous_feature].head()"
   ]
  },
  {
   "cell_type": "code",
   "execution_count": null,
   "id": "523d3b8a",
   "metadata": {
    "scrolled": true
   },
   "outputs": [],
   "source": [
    "for feature in continuous_feature:\n",
    "    data=housing.copy()\n",
    "    data[feature].hist(bins=30)\n",
    "    plt.xlabel(feature)\n",
    "    plt.ylabel(\"Count\")\n",
    "    plt.title(feature)\n",
    "    plt.show()"
   ]
  },
  {
   "cell_type": "code",
   "execution_count": null,
   "id": "287b9ae3",
   "metadata": {},
   "outputs": [],
   "source": [
    "housing.describe()"
   ]
  },
  {
   "cell_type": "code",
   "execution_count": null,
   "id": "59654ff3",
   "metadata": {},
   "outputs": [],
   "source": [
    "%matplotlib inline"
   ]
  },
  {
   "cell_type": "code",
   "execution_count": null,
   "id": "fb5fc788",
   "metadata": {},
   "outputs": [],
   "source": [
    "import seaborn as sns"
   ]
  },
  {
   "cell_type": "code",
   "execution_count": null,
   "id": "7eb67e39",
   "metadata": {},
   "outputs": [],
   "source": [
    "import matplotlib.pyplot as plt"
   ]
  },
  {
   "cell_type": "code",
   "execution_count": null,
   "id": "695f58f1",
   "metadata": {},
   "outputs": [],
   "source": [
    "housing.hist(bins=30 , figsize=(20,15))"
   ]
  },
  {
   "cell_type": "markdown",
   "id": "c67f0ee1",
   "metadata": {},
   "source": [
    "## finding correlations "
   ]
  },
  {
   "cell_type": "code",
   "execution_count": null,
   "id": "f5b965ea",
   "metadata": {
    "scrolled": false
   },
   "outputs": [],
   "source": [
    "corr=housing.corr()"
   ]
  },
  {
   "cell_type": "code",
   "execution_count": null,
   "id": "2aebc5f2",
   "metadata": {},
   "outputs": [],
   "source": [
    "corr['MEDV'].sort_values(ascending=False)"
   ]
  },
  {
   "cell_type": "code",
   "execution_count": null,
   "id": "3edcc2a0",
   "metadata": {
    "scrolled": false
   },
   "outputs": [],
   "source": [
    "sns.pairplot(housing[features], height=2.5)\n",
    "plt.tight_layout()"
   ]
  },
  {
   "cell_type": "code",
   "execution_count": null,
   "id": "d09ef617",
   "metadata": {},
   "outputs": [],
   "source": [
    "housing.plot(kind ='scatter', x ='RM', y ='MEDV', alpha = 0.8)"
   ]
  },
  {
   "cell_type": "code",
   "execution_count": null,
   "id": "c0b323a8",
   "metadata": {
    "scrolled": false
   },
   "outputs": [],
   "source": [
    "plt.figure(figsize=(20,20))\n",
    "sns.heatmap(housing.corr(),annot=True,cmap=plt.cm.CMRmap_r)"
   ]
  },
  {
   "cell_type": "code",
   "execution_count": null,
   "id": "52145c78",
   "metadata": {},
   "outputs": [],
   "source": [
    "## As we can see that TAX and RAD are highly correlated which is 91% so we can remove any one of them"
   ]
  },
  {
   "cell_type": "code",
   "execution_count": null,
   "id": "25e6d84f",
   "metadata": {},
   "outputs": [],
   "source": [
    "from pandas.plotting import scatter_matrix\n",
    "attributes = [\"MEDV\", \"RM\", \"ZN\", \"LSTAT\"]\n",
    "scatter_matrix(housing[attributes], figsize = (12,10))"
   ]
  },
  {
   "cell_type": "code",
   "execution_count": null,
   "id": "e6067810",
   "metadata": {},
   "outputs": [],
   "source": [
    "housing.plot(kind=\"scatter\", x=\"RM\", y=\"MEDV\", alpha=0.8)\n",
    "## as we can see RMs 5,6,7 having MEDV value is 50 we can remove this outlier "
   ]
  },
  {
   "cell_type": "markdown",
   "id": "9d1c198f",
   "metadata": {},
   "source": [
    "# Outliers"
   ]
  },
  {
   "cell_type": "code",
   "execution_count": null,
   "id": "7069e30a",
   "metadata": {},
   "outputs": [],
   "source": [
    "for feature in housing.columns:\n",
    "    data=housing.copy()\n",
    "    data.boxplot(column=feature)\n",
    "    plt.show()"
   ]
  },
  {
   "cell_type": "code",
   "execution_count": null,
   "id": "dd9e7337",
   "metadata": {},
   "outputs": [],
   "source": [
    "## applying log transformation\n",
    "import numpy as np\n",
    "for feature in continuous_feature:\n",
    "    data=housing.copy()\n",
    "    if 0 in data[feature].unique():\n",
    "        pass\n",
    "    else:\n",
    "        data[feature]=np.log(data[feature])\n",
    "        data['MEDV']=np.log(data['MEDV'])\n",
    "        plt.scatter(data[feature],data['MEDV'])\n",
    "        plt.xlabel(feature)\n",
    "        plt.ylabel('MEDV')\n",
    "        plt.title(feature)\n",
    "        plt.show()"
   ]
  },
  {
   "cell_type": "code",
   "execution_count": null,
   "id": "1e59b617",
   "metadata": {
    "scrolled": true
   },
   "outputs": [],
   "source": [
    "#after applying log transgormation we can see the boxplot in some of the features outliers are removed\n",
    "\n",
    "for feature in continuous_feature:\n",
    "    data=housing.copy()\n",
    "    if 0 in data[feature].unique():\n",
    "        pass\n",
    "    else:\n",
    "        data[feature]=np.log(data[feature])\n",
    "        data.boxplot(column=feature)\n",
    "        plt.ylabel(feature)\n",
    "        plt.title(feature)\n",
    "        plt.show()"
   ]
  },
  {
   "cell_type": "code",
   "execution_count": null,
   "id": "ef95e0dd",
   "metadata": {},
   "outputs": [],
   "source": [
    "mins,maxs=housing.MEDV.quantile([0.001,0.999])\n",
    "mins,maxs\n",
    "housing=housing[(housing.MEDV < maxs) & (housing.MEDV > mins)]"
   ]
  },
  {
   "cell_type": "code",
   "execution_count": null,
   "id": "716bdcfd",
   "metadata": {},
   "outputs": [],
   "source": [
    "## after removing the outlier\n",
    "housing.plot(kind=\"scatter\", x=\"RM\", y=\"MEDV\", alpha=0.8)"
   ]
  },
  {
   "cell_type": "code",
   "execution_count": null,
   "id": "693c7415",
   "metadata": {},
   "outputs": [],
   "source": [
    "housing.shape"
   ]
  },
  {
   "cell_type": "code",
   "execution_count": null,
   "id": "c7945b3a",
   "metadata": {},
   "outputs": [],
   "source": [
    "housing.head()"
   ]
  },
  {
   "cell_type": "markdown",
   "id": "667ffc34",
   "metadata": {},
   "source": [
    "## train-test splitting"
   ]
  },
  {
   "cell_type": "code",
   "execution_count": null,
   "id": "cdd832a8",
   "metadata": {},
   "outputs": [],
   "source": [
    "import numpy as np"
   ]
  },
  {
   "cell_type": "code",
   "execution_count": null,
   "id": "0ba048f7",
   "metadata": {},
   "outputs": [],
   "source": [
    "X=housing.iloc[:,:-1]\n",
    "y=housing.iloc[:,-1]"
   ]
  },
  {
   "cell_type": "code",
   "execution_count": null,
   "id": "0870fca5",
   "metadata": {},
   "outputs": [],
   "source": [
    "from sklearn.model_selection import train_test_split\n",
    "X_train,X_test,y_train,y_test=train_test_split(X,y,test_size=0.2,random_state=42)"
   ]
  },
  {
   "cell_type": "code",
   "execution_count": null,
   "id": "bac32785",
   "metadata": {},
   "outputs": [],
   "source": [
    "X_train.head()"
   ]
  },
  {
   "cell_type": "code",
   "execution_count": null,
   "id": "48d73390",
   "metadata": {},
   "outputs": [],
   "source": [
    "X_test.head()"
   ]
  },
  {
   "cell_type": "code",
   "execution_count": null,
   "id": "e2ce6075",
   "metadata": {},
   "outputs": [],
   "source": [
    "X_train.shape, X_test.shape"
   ]
  },
  {
   "cell_type": "code",
   "execution_count": null,
   "id": "f5e282ba",
   "metadata": {},
   "outputs": [],
   "source": [
    "X_train=X_train.copy()"
   ]
  },
  {
   "cell_type": "code",
   "execution_count": null,
   "id": "568323d0",
   "metadata": {},
   "outputs": [],
   "source": [
    "## most of the data is skewed so for that we apply log transformation\n",
    "import numpy as np\n",
    "num_features=['CRIM','NOX','DIS','TAX','LSTAT','B','RM','PTRATIO','INDUS']\n",
    "for feature in num_features:\n",
    "    X_train[feature]=np.log(X_train[feature])"
   ]
  },
  {
   "cell_type": "code",
   "execution_count": null,
   "id": "28566c78",
   "metadata": {},
   "outputs": [],
   "source": [
    "X_train.head()"
   ]
  },
  {
   "cell_type": "code",
   "execution_count": null,
   "id": "2b10b9b4",
   "metadata": {},
   "outputs": [],
   "source": [
    "import seaborn as sns\n",
    "#Using Pearson Correlation\n",
    "plt.figure(figsize=(12,10))\n",
    "cor = X_train.corr()\n",
    "sns.heatmap(cor, annot=True, cmap=plt.cm.CMRmap_r)\n",
    "plt.show()"
   ]
  },
  {
   "cell_type": "code",
   "execution_count": null,
   "id": "3a0b9c73",
   "metadata": {},
   "outputs": [],
   "source": [
    "def correlation(dataset, threshold):\n",
    "    col_corr = set()  # Set of all the names of correlated columns\n",
    "    corr_matrix = dataset.corr()\n",
    "    for i in range(len(corr_matrix.columns)):\n",
    "        for j in range(i):\n",
    "            if (corr_matrix.iloc[i, j]) > threshold: # we are interested in absolute coeff value\n",
    "                colname = corr_matrix.columns[i]  # getting the name of column\n",
    "                col_corr.add(colname)\n",
    "    return col_corr"
   ]
  },
  {
   "cell_type": "code",
   "execution_count": null,
   "id": "5aa7afea",
   "metadata": {},
   "outputs": [],
   "source": [
    "corr_features = correlation(X_train, 0.85)\n",
    "print(len(set(corr_features)))\n",
    "corr_features"
   ]
  },
  {
   "cell_type": "code",
   "execution_count": null,
   "id": "0904457d",
   "metadata": {},
   "outputs": [],
   "source": [
    "X_train.drop('RAD',axis=1,inplace=True) #drop feature RAD"
   ]
  },
  {
   "cell_type": "code",
   "execution_count": null,
   "id": "32d6eea2",
   "metadata": {},
   "outputs": [],
   "source": [
    "X_train.head()"
   ]
  },
  {
   "cell_type": "markdown",
   "id": "82412bdb",
   "metadata": {},
   "source": [
    "Feature scaling"
   ]
  },
  {
   "cell_type": "code",
   "execution_count": null,
   "id": "f0bfab30",
   "metadata": {},
   "outputs": [],
   "source": [
    "from sklearn.preprocessing import StandardScaler\n",
    "scaler=StandardScaler()"
   ]
  },
  {
   "cell_type": "code",
   "execution_count": null,
   "id": "d256d023",
   "metadata": {},
   "outputs": [],
   "source": [
    "X_train_SC=scaler.fit_transform(X_train)"
   ]
  },
  {
   "cell_type": "code",
   "execution_count": null,
   "id": "76350da8",
   "metadata": {},
   "outputs": [],
   "source": [
    "X_train_SC"
   ]
  },
  {
   "cell_type": "code",
   "execution_count": null,
   "id": "670e62c6",
   "metadata": {},
   "outputs": [],
   "source": [
    "X_train=pd.DataFrame(X_train_SC,columns=X_train.columns)"
   ]
  },
  {
   "cell_type": "code",
   "execution_count": null,
   "id": "239886fb",
   "metadata": {},
   "outputs": [],
   "source": [
    "X_train.head()"
   ]
  },
  {
   "cell_type": "markdown",
   "id": "0565649d",
   "metadata": {},
   "source": [
    "Feature Selection"
   ]
  },
  {
   "cell_type": "code",
   "execution_count": null,
   "id": "46eecc00",
   "metadata": {},
   "outputs": [],
   "source": [
    "from sklearn.linear_model import Lasso\n",
    "from sklearn.feature_selection import SelectFromModel\n",
    "feature_sel_model = SelectFromModel(Lasso(alpha=0.005, random_state=42)) # remember to set the seed, the random state in this function\n",
    "feature_sel_model.fit(X_train, y_train)"
   ]
  },
  {
   "cell_type": "code",
   "execution_count": null,
   "id": "92dfcf1c",
   "metadata": {},
   "outputs": [],
   "source": [
    "selected_feat = X_train.columns[(feature_sel_model.get_support())]\n",
    "selected_feat"
   ]
  },
  {
   "cell_type": "markdown",
   "id": "18e0bb81",
   "metadata": {},
   "source": [
    "Making changes in test data applying log and standard scaler"
   ]
  },
  {
   "cell_type": "code",
   "execution_count": null,
   "id": "3094fe04",
   "metadata": {},
   "outputs": [],
   "source": [
    "#### Testing on the test data\n",
    "#### applying log on test data\n",
    "X_test=X_test.copy()\n",
    "import numpy as np\n",
    "num_features=['CRIM','NOX','DIS','TAX','LSTAT','B','RM','PTRATIO','INDUS']\n",
    "for feature in num_features:\n",
    "    X_test[feature]=np.log(X_test[feature])\n",
    "\n",
    "X_test.drop('RAD',axis=1,inplace=True) #drop feature RAD\n",
    "\n",
    "#### applying SC on test data\n",
    "X_test_SC=scaler.transform(X_test)\n",
    "X_test=pd.DataFrame(X_test_SC,columns=X_test.columns)"
   ]
  },
  {
   "cell_type": "code",
   "execution_count": null,
   "id": "91aaa279",
   "metadata": {},
   "outputs": [],
   "source": [
    "X_test.head()"
   ]
  },
  {
   "cell_type": "code",
   "execution_count": null,
   "id": "d6c68841",
   "metadata": {},
   "outputs": [],
   "source": [
    "X_test.shape"
   ]
  },
  {
   "cell_type": "markdown",
   "id": "e04c660e",
   "metadata": {},
   "source": [
    "# Selecting desired model"
   ]
  },
  {
   "cell_type": "markdown",
   "id": "c86e2525",
   "metadata": {},
   "source": [
    "Using Linear Regression"
   ]
  },
  {
   "cell_type": "code",
   "execution_count": null,
   "id": "57e4e1eb",
   "metadata": {},
   "outputs": [],
   "source": [
    "from sklearn.linear_model import LinearRegression\n",
    "model=LinearRegression()\n",
    "model.fit(X_train,y_train)"
   ]
  },
  {
   "cell_type": "markdown",
   "id": "3c55ec56",
   "metadata": {},
   "source": [
    "Using Metrics"
   ]
  },
  {
   "cell_type": "code",
   "execution_count": null,
   "id": "04b055f0",
   "metadata": {},
   "outputs": [],
   "source": [
    "from sklearn.metrics import r2_score,mean_squared_error,mean_absolute_error\n",
    "predictions1=model.predict(X_train)\n",
    "r2=r2_score(y_train,predictions1)\n",
    "mse=mean_squared_error(y_train,predictions1)\n",
    "mae=mean_absolute_error(y_train,predictions1)\n",
    "rmse=np.sqrt(mse)\n",
    "print(f\"R Squared = {r2} \\nMean Squared Error = {mse} \\nMean Absolute Error = {mae} \\nRoot Mean Squared Error = {rmse}\")"
   ]
  },
  {
   "cell_type": "markdown",
   "id": "b0591fb0",
   "metadata": {},
   "source": [
    "Using Lasso Regression"
   ]
  },
  {
   "cell_type": "code",
   "execution_count": null,
   "id": "5cc831f2",
   "metadata": {},
   "outputs": [],
   "source": [
    "from sklearn.linear_model import Lasso\n",
    "modellasso=Lasso()\n",
    "modellasso.fit(X_train,y_train)"
   ]
  },
  {
   "cell_type": "markdown",
   "id": "6b9a15aa",
   "metadata": {},
   "source": [
    "Using Metrics"
   ]
  },
  {
   "cell_type": "code",
   "execution_count": null,
   "id": "0a462343",
   "metadata": {},
   "outputs": [],
   "source": [
    "predictions2=modellasso.predict(X_train)\n",
    "r2=r2_score(y_train,predictions2)\n",
    "mse=mean_squared_error(y_train,predictions2)\n",
    "mae=mean_absolute_error(y_train,predictions2)\n",
    "rmse=np.sqrt(mse)\n",
    "print(f\"R Squared = {r2} \\nMean Squared Error = {mse} \\nMean Absolute Error = {mae} \\nRoot Mean Squared Error = {rmse}\")"
   ]
  },
  {
   "cell_type": "markdown",
   "id": "01c22770",
   "metadata": {},
   "source": [
    "Using K Nearest Neighbour"
   ]
  },
  {
   "cell_type": "code",
   "execution_count": null,
   "id": "1ae6b7ec",
   "metadata": {},
   "outputs": [],
   "source": [
    "from sklearn.neighbors import KNeighborsRegressor\n",
    "modelKNN=KNeighborsRegressor(5)\n",
    "modelKNN.fit(X_train,y_train)"
   ]
  },
  {
   "cell_type": "markdown",
   "id": "35500e04",
   "metadata": {},
   "source": [
    "Using Metrics"
   ]
  },
  {
   "cell_type": "code",
   "execution_count": null,
   "id": "05a1d8e7",
   "metadata": {},
   "outputs": [],
   "source": [
    "predictions3=modelKNN.predict(X_train)\n",
    "r2=r2_score(y_train,predictions3)\n",
    "mse=mean_squared_error(y_train,predictions3)\n",
    "mae=mean_absolute_error(y_train,predictions3)\n",
    "rmse=np.sqrt(mse)\n",
    "print(f\"R Squared = {r2} \\nMean Squared Error = {mse} \\nMean Absolute Error = {mae} \\nRoot Mean Squared Error = {rmse}\")"
   ]
  },
  {
   "cell_type": "markdown",
   "id": "ec8764b1",
   "metadata": {},
   "source": [
    "Using Decison Tree Regressor"
   ]
  },
  {
   "cell_type": "code",
   "execution_count": null,
   "id": "f4c809b5",
   "metadata": {},
   "outputs": [],
   "source": [
    "from sklearn.tree import DecisionTreeRegressor\n",
    "modelDT=DecisionTreeRegressor()\n",
    "modelDT.fit(X_train,y_train)"
   ]
  },
  {
   "cell_type": "markdown",
   "id": "3ac02f98",
   "metadata": {},
   "source": [
    "Using Metrics"
   ]
  },
  {
   "cell_type": "code",
   "execution_count": null,
   "id": "1a7ed61e",
   "metadata": {},
   "outputs": [],
   "source": [
    "predictions4=modelDT.predict(X_train)\n",
    "r2=r2_score(y_train,predictions4)\n",
    "mse=mean_squared_error(y_train,predictions4)\n",
    "mae=mean_absolute_error(y_train,predictions4)\n",
    "rmse=np.sqrt(mse)\n",
    "print(f\"R Squared = {r2} \\nMean Squared Error = {mse} \\nMean Absolute Error = {mae} \\nRoot Mean Squared Error = {rmse}\")"
   ]
  },
  {
   "cell_type": "markdown",
   "id": "db2b2851",
   "metadata": {},
   "source": [
    "# Overfitting occurs we will do cross validation "
   ]
  },
  {
   "cell_type": "code",
   "execution_count": null,
   "id": "fe0c28d6",
   "metadata": {},
   "outputs": [],
   "source": [
    "from sklearn.model_selection import cross_val_score\n",
    "scores = cross_val_score(modelDT, X_train,y_train, scoring=\"neg_mean_squared_error\", cv=10)\n",
    "rmse_scores = np.sqrt(-scores)\n",
    "print(rmse_scores.mean())"
   ]
  },
  {
   "cell_type": "markdown",
   "id": "853a2413",
   "metadata": {},
   "source": [
    "Using Random Forest Regressor"
   ]
  },
  {
   "cell_type": "code",
   "execution_count": null,
   "id": "24f0decc",
   "metadata": {},
   "outputs": [],
   "source": [
    "from sklearn.ensemble import RandomForestRegressor\n",
    "modelRF=RandomForestRegressor()\n",
    "modelRF.fit(X_train,y_train)"
   ]
  },
  {
   "cell_type": "markdown",
   "id": "6d62ea37",
   "metadata": {},
   "source": [
    "Using Metrics"
   ]
  },
  {
   "cell_type": "code",
   "execution_count": null,
   "id": "c34d6134",
   "metadata": {},
   "outputs": [],
   "source": [
    "predictions5=modelRF.predict(X_train)\n",
    "r2=r2_score(y_train,predictions5)\n",
    "mse=mean_squared_error(y_train,predictions5)\n",
    "mae=mean_absolute_error(y_train,predictions5)\n",
    "rmse=np.sqrt(mse)\n",
    "print(f\"R Squared = {r2} \\nMean Squared Error = {mse} \\nMean Absolute Error = {mae} \\nRoot Mean Squared Error = {rmse}\")"
   ]
  },
  {
   "cell_type": "markdown",
   "id": "def84d24",
   "metadata": {},
   "source": [
    "Testing on Test data"
   ]
  },
  {
   "cell_type": "code",
   "execution_count": null,
   "id": "edc8422b",
   "metadata": {},
   "outputs": [],
   "source": [
    "#KNN model on test data\n",
    "predictionsKNN=modelKNN.predict(X_test)\n",
    "r2=r2_score(y_test,predictionsKNN)\n",
    "mse=mean_squared_error(y_test,predictionsKNN)\n",
    "mae=mean_absolute_error(y_test,predictionsKNN)\n",
    "rmse=np.sqrt(mse)\n",
    "print(f\"R Squared = {r2} \\nMean Squared Error = {mse} \\nMean Absolute Error = {mae} \\nRoot Mean Squared Error = {rmse}\")"
   ]
  },
  {
   "cell_type": "code",
   "execution_count": null,
   "id": "f3776bfd",
   "metadata": {},
   "outputs": [],
   "source": [
    "#Decison tree on test data\n",
    "predictionsDT=modelDT.predict(X_test)\n",
    "r2=r2_score(y_test,predictionsDT)\n",
    "mse=mean_squared_error(y_test,predictionsDT)\n",
    "mae=mean_absolute_error(y_test,predictionsDT)\n",
    "rmse=np.sqrt(mse)\n",
    "print(f\"R Squared = {r2} \\nMean Squared Error = {mse} \\nMean Absolute Error = {mae} \\nRoot Mean Squared Error = {rmse}\")"
   ]
  },
  {
   "cell_type": "code",
   "execution_count": null,
   "id": "8d7562fd",
   "metadata": {},
   "outputs": [],
   "source": [
    "#Random Forest tree on test data\n",
    "predictionsRF=modelRF.predict(X_test)\n",
    "r2=r2_score(y_test,predictionsRF)\n",
    "mse=mean_squared_error(y_test,predictionsRF)\n",
    "mae=mean_absolute_error(y_test,predictionsRF)\n",
    "rmse=np.sqrt(mse)\n",
    "print(f\"R Squared = {r2} \\nMean Squared Error = {mse} \\nMean Absolute Error = {mae} \\nRoot Mean Squared Error = {rmse}\")"
   ]
  },
  {
   "cell_type": "markdown",
   "id": "6e99e7d6",
   "metadata": {},
   "source": [
    "# Random Forest Regressor is showing high accuracy and less RMSE both on test and train data."
   ]
  },
  {
   "cell_type": "markdown",
   "id": "92ea972a",
   "metadata": {},
   "source": [
    "Hypertuning\n"
   ]
  },
  {
   "cell_type": "code",
   "execution_count": null,
   "id": "330c57b7",
   "metadata": {},
   "outputs": [],
   "source": [
    "### using best parameters\n",
    "model1=RandomForestRegressor(n_estimators=1100,max_depth=900,max_features='sqrt',min_samples_leaf=1,min_samples_split=2)\n",
    "model1.fit(X_train,y_train)"
   ]
  },
  {
   "cell_type": "markdown",
   "id": "95fdb555",
   "metadata": {},
   "source": [
    "Using Metrics"
   ]
  },
  {
   "cell_type": "code",
   "execution_count": null,
   "id": "dd6bbb72",
   "metadata": {},
   "outputs": [],
   "source": [
    "#after hypertuning Random Forest tree on train data\n",
    "predictionsRF1=model1.predict(X_train)\n",
    "r2=r2_score(y_train,predictionsRF1)\n",
    "mse=mean_squared_error(y_train,predictionsRF1)\n",
    "mae=mean_absolute_error(y_train,predictionsRF1)\n",
    "rmse=np.sqrt(mse)\n",
    "print(f\"R Squared = {r2} \\nMean Squared Error = {mse} \\nMean Absolute Error = {mae} \\nRoot Mean Squared Error = {rmse}\")"
   ]
  },
  {
   "cell_type": "code",
   "execution_count": null,
   "id": "5622e678",
   "metadata": {},
   "outputs": [],
   "source": [
    "#after hypertuning Random Forest tree on test data\n",
    "predictionsRF2=model1.predict(X_test)\n",
    "r2=r2_score(y_test,predictionsRF2)\n",
    "mse=mean_squared_error(y_test,predictionsRF2)\n",
    "mae=mean_absolute_error(y_test,predictionsRF2)\n",
    "rmse=np.sqrt(mse)\n",
    "print(f\"R Squared = {r2} \\nMean Squared Error = {mse} \\nMean Absolute Error = {mae} \\nRoot Mean Squared Error = {rmse}\")"
   ]
  },
  {
   "cell_type": "code",
   "execution_count": null,
   "id": "b242249e",
   "metadata": {},
   "outputs": [],
   "source": [
    "sns.histplot(y_test-predictionsRF2)"
   ]
  },
  {
   "cell_type": "code",
   "execution_count": null,
   "id": "5f346d27",
   "metadata": {},
   "outputs": [],
   "source": [
    "plt.scatter(y_test,predictionsRF2)"
   ]
  },
  {
   "cell_type": "code",
   "execution_count": null,
   "id": "716aee73",
   "metadata": {},
   "outputs": [],
   "source": [
    "sns.regplot(x=y_test,y=predictionsRF2,scatter=True,marker='*')"
   ]
  },
  {
   "cell_type": "code",
   "execution_count": null,
   "id": "5af586e7",
   "metadata": {},
   "outputs": [],
   "source": [
    "import pickle\n",
    "file=open('RFHouseModel.pkl','wb')\n",
    "pickle.dump(model1,file)"
   ]
  },
  {
   "cell_type": "code",
   "execution_count": null,
   "id": "0515936a",
   "metadata": {},
   "outputs": [],
   "source": [
    "pickle.dump(scaler,open('Scaler.pkl','wb'))"
   ]
  },
  {
   "cell_type": "code",
   "execution_count": null,
   "id": "84f547dd",
   "metadata": {},
   "outputs": [],
   "source": [
    "#loaded_model=pickle.load(open('RFHouseModel.pkl', 'rb'))"
   ]
  },
  {
   "cell_type": "code",
   "execution_count": null,
   "id": "5acf6aeb",
   "metadata": {},
   "outputs": [],
   "source": [
    "#input_data =(0.00632,18.0,2.31,0,0.538,6.575,65.2,4.0900,296,15.3,396.90,4.98)"
   ]
  },
  {
   "cell_type": "code",
   "execution_count": null,
   "id": "9da2ba2f",
   "metadata": {},
   "outputs": [],
   "source": []
  }
 ],
 "metadata": {
  "kernelspec": {
   "display_name": "Python 3 (ipykernel)",
   "language": "python",
   "name": "python3"
  },
  "language_info": {
   "codemirror_mode": {
    "name": "ipython",
    "version": 3
   },
   "file_extension": ".py",
   "mimetype": "text/x-python",
   "name": "python",
   "nbconvert_exporter": "python",
   "pygments_lexer": "ipython3",
   "version": "3.9.7"
  }
 },
 "nbformat": 4,
 "nbformat_minor": 5
}
